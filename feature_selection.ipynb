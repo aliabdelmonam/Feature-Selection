{
  "cells": [
    {
      "cell_type": "markdown",
      "metadata": {
        "id": "7ApR67cXv65l"
      },
      "source": [
        "# Data"
      ]
    },
    {
      "cell_type": "code",
      "execution_count": 148,
      "metadata": {
        "id": "cLqP7c0gylPB"
      },
      "outputs": [],
      "source": [
        "import numpy as np\n",
        "import pandas as pd\n",
        "from sklearn.model_selection  import train_test_split\n",
        "from sklearn.preprocessing import  MinMaxScaler\n",
        "from collections import Counter\n",
        "import seaborn as sns\n",
        "import matplotlib.pyplot as plt\n",
        "from imblearn.over_sampling import SMOTE\n",
        "from sklearn.model_selection import GridSearchCV\n",
        "from sklearn.svm import SVC\n",
        "from sklearn.metrics import accuracy_score\n",
        "from sklearn.ensemble import RandomForestClassifier"
      ]
    },
    {
      "cell_type": "code",
      "execution_count": 92,
      "metadata": {
        "colab": {
          "base_uri": "https://localhost:8080/",
          "height": 273
        },
        "id": "-wOBFNgKy-hy",
        "outputId": "38e391e8-4ac1-45f2-d1a4-d564f508efb3"
      },
      "outputs": [
        {
          "data": {
            "text/html": [
              "<div>\n",
              "<style scoped>\n",
              "    .dataframe tbody tr th:only-of-type {\n",
              "        vertical-align: middle;\n",
              "    }\n",
              "\n",
              "    .dataframe tbody tr th {\n",
              "        vertical-align: top;\n",
              "    }\n",
              "\n",
              "    .dataframe thead th {\n",
              "        text-align: right;\n",
              "    }\n",
              "</style>\n",
              "<table border=\"1\" class=\"dataframe\">\n",
              "  <thead>\n",
              "    <tr style=\"text-align: right;\">\n",
              "      <th></th>\n",
              "      <th>id</th>\n",
              "      <th>diagnosis</th>\n",
              "      <th>radius_mean</th>\n",
              "      <th>texture_mean</th>\n",
              "      <th>perimeter_mean</th>\n",
              "      <th>area_mean</th>\n",
              "      <th>smoothness_mean</th>\n",
              "      <th>compactness_mean</th>\n",
              "      <th>concavity_mean</th>\n",
              "      <th>concave points_mean</th>\n",
              "      <th>...</th>\n",
              "      <th>texture_worst</th>\n",
              "      <th>perimeter_worst</th>\n",
              "      <th>area_worst</th>\n",
              "      <th>smoothness_worst</th>\n",
              "      <th>compactness_worst</th>\n",
              "      <th>concavity_worst</th>\n",
              "      <th>concave points_worst</th>\n",
              "      <th>symmetry_worst</th>\n",
              "      <th>fractal_dimension_worst</th>\n",
              "      <th>Unnamed: 32</th>\n",
              "    </tr>\n",
              "  </thead>\n",
              "  <tbody>\n",
              "    <tr>\n",
              "      <th>0</th>\n",
              "      <td>842302</td>\n",
              "      <td>M</td>\n",
              "      <td>17.99</td>\n",
              "      <td>10.38</td>\n",
              "      <td>122.80</td>\n",
              "      <td>1001.0</td>\n",
              "      <td>0.11840</td>\n",
              "      <td>0.27760</td>\n",
              "      <td>0.3001</td>\n",
              "      <td>0.14710</td>\n",
              "      <td>...</td>\n",
              "      <td>17.33</td>\n",
              "      <td>184.60</td>\n",
              "      <td>2019.0</td>\n",
              "      <td>0.1622</td>\n",
              "      <td>0.6656</td>\n",
              "      <td>0.7119</td>\n",
              "      <td>0.2654</td>\n",
              "      <td>0.4601</td>\n",
              "      <td>0.11890</td>\n",
              "      <td>NaN</td>\n",
              "    </tr>\n",
              "    <tr>\n",
              "      <th>1</th>\n",
              "      <td>842517</td>\n",
              "      <td>M</td>\n",
              "      <td>20.57</td>\n",
              "      <td>17.77</td>\n",
              "      <td>132.90</td>\n",
              "      <td>1326.0</td>\n",
              "      <td>0.08474</td>\n",
              "      <td>0.07864</td>\n",
              "      <td>0.0869</td>\n",
              "      <td>0.07017</td>\n",
              "      <td>...</td>\n",
              "      <td>23.41</td>\n",
              "      <td>158.80</td>\n",
              "      <td>1956.0</td>\n",
              "      <td>0.1238</td>\n",
              "      <td>0.1866</td>\n",
              "      <td>0.2416</td>\n",
              "      <td>0.1860</td>\n",
              "      <td>0.2750</td>\n",
              "      <td>0.08902</td>\n",
              "      <td>NaN</td>\n",
              "    </tr>\n",
              "    <tr>\n",
              "      <th>2</th>\n",
              "      <td>84300903</td>\n",
              "      <td>M</td>\n",
              "      <td>19.69</td>\n",
              "      <td>21.25</td>\n",
              "      <td>130.00</td>\n",
              "      <td>1203.0</td>\n",
              "      <td>0.10960</td>\n",
              "      <td>0.15990</td>\n",
              "      <td>0.1974</td>\n",
              "      <td>0.12790</td>\n",
              "      <td>...</td>\n",
              "      <td>25.53</td>\n",
              "      <td>152.50</td>\n",
              "      <td>1709.0</td>\n",
              "      <td>0.1444</td>\n",
              "      <td>0.4245</td>\n",
              "      <td>0.4504</td>\n",
              "      <td>0.2430</td>\n",
              "      <td>0.3613</td>\n",
              "      <td>0.08758</td>\n",
              "      <td>NaN</td>\n",
              "    </tr>\n",
              "    <tr>\n",
              "      <th>3</th>\n",
              "      <td>84348301</td>\n",
              "      <td>M</td>\n",
              "      <td>11.42</td>\n",
              "      <td>20.38</td>\n",
              "      <td>77.58</td>\n",
              "      <td>386.1</td>\n",
              "      <td>0.14250</td>\n",
              "      <td>0.28390</td>\n",
              "      <td>0.2414</td>\n",
              "      <td>0.10520</td>\n",
              "      <td>...</td>\n",
              "      <td>26.50</td>\n",
              "      <td>98.87</td>\n",
              "      <td>567.7</td>\n",
              "      <td>0.2098</td>\n",
              "      <td>0.8663</td>\n",
              "      <td>0.6869</td>\n",
              "      <td>0.2575</td>\n",
              "      <td>0.6638</td>\n",
              "      <td>0.17300</td>\n",
              "      <td>NaN</td>\n",
              "    </tr>\n",
              "    <tr>\n",
              "      <th>4</th>\n",
              "      <td>84358402</td>\n",
              "      <td>M</td>\n",
              "      <td>20.29</td>\n",
              "      <td>14.34</td>\n",
              "      <td>135.10</td>\n",
              "      <td>1297.0</td>\n",
              "      <td>0.10030</td>\n",
              "      <td>0.13280</td>\n",
              "      <td>0.1980</td>\n",
              "      <td>0.10430</td>\n",
              "      <td>...</td>\n",
              "      <td>16.67</td>\n",
              "      <td>152.20</td>\n",
              "      <td>1575.0</td>\n",
              "      <td>0.1374</td>\n",
              "      <td>0.2050</td>\n",
              "      <td>0.4000</td>\n",
              "      <td>0.1625</td>\n",
              "      <td>0.2364</td>\n",
              "      <td>0.07678</td>\n",
              "      <td>NaN</td>\n",
              "    </tr>\n",
              "  </tbody>\n",
              "</table>\n",
              "<p>5 rows × 33 columns</p>\n",
              "</div>"
            ],
            "text/plain": [
              "         id diagnosis  radius_mean  texture_mean  perimeter_mean  area_mean  \\\n",
              "0    842302         M        17.99         10.38          122.80     1001.0   \n",
              "1    842517         M        20.57         17.77          132.90     1326.0   \n",
              "2  84300903         M        19.69         21.25          130.00     1203.0   \n",
              "3  84348301         M        11.42         20.38           77.58      386.1   \n",
              "4  84358402         M        20.29         14.34          135.10     1297.0   \n",
              "\n",
              "   smoothness_mean  compactness_mean  concavity_mean  concave points_mean  \\\n",
              "0          0.11840           0.27760          0.3001              0.14710   \n",
              "1          0.08474           0.07864          0.0869              0.07017   \n",
              "2          0.10960           0.15990          0.1974              0.12790   \n",
              "3          0.14250           0.28390          0.2414              0.10520   \n",
              "4          0.10030           0.13280          0.1980              0.10430   \n",
              "\n",
              "   ...  texture_worst  perimeter_worst  area_worst  smoothness_worst  \\\n",
              "0  ...          17.33           184.60      2019.0            0.1622   \n",
              "1  ...          23.41           158.80      1956.0            0.1238   \n",
              "2  ...          25.53           152.50      1709.0            0.1444   \n",
              "3  ...          26.50            98.87       567.7            0.2098   \n",
              "4  ...          16.67           152.20      1575.0            0.1374   \n",
              "\n",
              "   compactness_worst  concavity_worst  concave points_worst  symmetry_worst  \\\n",
              "0             0.6656           0.7119                0.2654          0.4601   \n",
              "1             0.1866           0.2416                0.1860          0.2750   \n",
              "2             0.4245           0.4504                0.2430          0.3613   \n",
              "3             0.8663           0.6869                0.2575          0.6638   \n",
              "4             0.2050           0.4000                0.1625          0.2364   \n",
              "\n",
              "   fractal_dimension_worst  Unnamed: 32  \n",
              "0                  0.11890          NaN  \n",
              "1                  0.08902          NaN  \n",
              "2                  0.08758          NaN  \n",
              "3                  0.17300          NaN  \n",
              "4                  0.07678          NaN  \n",
              "\n",
              "[5 rows x 33 columns]"
            ]
          },
          "execution_count": 92,
          "metadata": {},
          "output_type": "execute_result"
        }
      ],
      "source": [
        "df=pd.read_csv('Breast_Cancer.csv')\n",
        "df.head()"
      ]
    },
    {
      "cell_type": "code",
      "execution_count": 93,
      "metadata": {
        "colab": {
          "base_uri": "https://localhost:8080/"
        },
        "id": "PKbti5N4vw3i",
        "outputId": "d80f7319-7ce4-463d-8e7e-34dc8e88563e"
      },
      "outputs": [
        {
          "name": "stdout",
          "output_type": "stream",
          "text": [
            "<class 'pandas.core.frame.DataFrame'>\n",
            "RangeIndex: 569 entries, 0 to 568\n",
            "Data columns (total 33 columns):\n",
            " #   Column                   Non-Null Count  Dtype  \n",
            "---  ------                   --------------  -----  \n",
            " 0   id                       569 non-null    int64  \n",
            " 1   diagnosis                569 non-null    object \n",
            " 2   radius_mean              569 non-null    float64\n",
            " 3   texture_mean             569 non-null    float64\n",
            " 4   perimeter_mean           569 non-null    float64\n",
            " 5   area_mean                569 non-null    float64\n",
            " 6   smoothness_mean          569 non-null    float64\n",
            " 7   compactness_mean         569 non-null    float64\n",
            " 8   concavity_mean           569 non-null    float64\n",
            " 9   concave points_mean      569 non-null    float64\n",
            " 10  symmetry_mean            569 non-null    float64\n",
            " 11  fractal_dimension_mean   569 non-null    float64\n",
            " 12  radius_se                569 non-null    float64\n",
            " 13  texture_se               569 non-null    float64\n",
            " 14  perimeter_se             569 non-null    float64\n",
            " 15  area_se                  569 non-null    float64\n",
            " 16  smoothness_se            569 non-null    float64\n",
            " 17  compactness_se           569 non-null    float64\n",
            " 18  concavity_se             569 non-null    float64\n",
            " 19  concave points_se        569 non-null    float64\n",
            " 20  symmetry_se              569 non-null    float64\n",
            " 21  fractal_dimension_se     569 non-null    float64\n",
            " 22  radius_worst             569 non-null    float64\n",
            " 23  texture_worst            569 non-null    float64\n",
            " 24  perimeter_worst          569 non-null    float64\n",
            " 25  area_worst               569 non-null    float64\n",
            " 26  smoothness_worst         569 non-null    float64\n",
            " 27  compactness_worst        569 non-null    float64\n",
            " 28  concavity_worst          569 non-null    float64\n",
            " 29  concave points_worst     569 non-null    float64\n",
            " 30  symmetry_worst           569 non-null    float64\n",
            " 31  fractal_dimension_worst  569 non-null    float64\n",
            " 32  Unnamed: 32              0 non-null      float64\n",
            "dtypes: float64(31), int64(1), object(1)\n",
            "memory usage: 146.8+ KB\n"
          ]
        }
      ],
      "source": [
        "df.info()"
      ]
    },
    {
      "cell_type": "code",
      "execution_count": 94,
      "metadata": {
        "colab": {
          "base_uri": "https://localhost:8080/"
        },
        "id": "uh0hGRhmvyX9",
        "outputId": "16f304dd-8aa4-45ec-e219-b9ea071fd919"
      },
      "outputs": [
        {
          "data": {
            "text/plain": [
              "(569, 33)"
            ]
          },
          "execution_count": 94,
          "metadata": {},
          "output_type": "execute_result"
        }
      ],
      "source": [
        "df.shape"
      ]
    },
    {
      "cell_type": "code",
      "execution_count": 95,
      "metadata": {
        "colab": {
          "base_uri": "https://localhost:8080/"
        },
        "id": "fzEKdmOUzOGH",
        "outputId": "a740dc2b-d8a9-412d-c1e0-1542d5777728"
      },
      "outputs": [
        {
          "data": {
            "text/plain": [
              "Index(['id', 'diagnosis', 'radius_mean', 'texture_mean', 'perimeter_mean',\n",
              "       'area_mean', 'smoothness_mean', 'compactness_mean', 'concavity_mean',\n",
              "       'concave points_mean', 'symmetry_mean', 'fractal_dimension_mean',\n",
              "       'radius_se', 'texture_se', 'perimeter_se', 'area_se', 'smoothness_se',\n",
              "       'compactness_se', 'concavity_se', 'concave points_se', 'symmetry_se',\n",
              "       'fractal_dimension_se', 'radius_worst', 'texture_worst',\n",
              "       'perimeter_worst', 'area_worst', 'smoothness_worst',\n",
              "       'compactness_worst', 'concavity_worst', 'concave points_worst',\n",
              "       'symmetry_worst', 'fractal_dimension_worst', 'Unnamed: 32'],\n",
              "      dtype='object')"
            ]
          },
          "execution_count": 95,
          "metadata": {},
          "output_type": "execute_result"
        }
      ],
      "source": [
        "df.columns"
      ]
    },
    {
      "cell_type": "code",
      "execution_count": 96,
      "metadata": {
        "id": "R5WL3mjVzGa4"
      },
      "outputs": [],
      "source": [
        "df.drop(['id','Unnamed: 32'],axis=1, inplace=True)"
      ]
    },
    {
      "cell_type": "code",
      "execution_count": 97,
      "metadata": {
        "id": "XouRjwPPzTlQ"
      },
      "outputs": [],
      "source": [
        "df['diagnosis']=[1 if i=='M' else 0  for i in df['diagnosis']]"
      ]
    },
    {
      "cell_type": "code",
      "execution_count": 98,
      "metadata": {
        "colab": {
          "base_uri": "https://localhost:8080/"
        },
        "id": "8xNqxjoFzgOq",
        "outputId": "87defeee-4ed8-4a3c-a067-9f75d4b0eb70"
      },
      "outputs": [
        {
          "data": {
            "text/plain": [
              "array([1, 0], dtype=int64)"
            ]
          },
          "execution_count": 98,
          "metadata": {},
          "output_type": "execute_result"
        }
      ],
      "source": [
        "df['diagnosis'].unique()"
      ]
    },
    {
      "cell_type": "code",
      "execution_count": 99,
      "metadata": {
        "id": "dujW6nOD0Q34"
      },
      "outputs": [],
      "source": [
        "x=df.drop('diagnosis',axis=1)\n",
        "y=df['diagnosis']"
      ]
    },
    {
      "cell_type": "code",
      "execution_count": 100,
      "metadata": {
        "colab": {
          "base_uri": "https://localhost:8080/"
        },
        "id": "FOCAd6_NziYz",
        "outputId": "96e00f38-dd55-41a2-b8cd-e8cb8bebcd13"
      },
      "outputs": [
        {
          "data": {
            "text/plain": [
              "Counter({0: 357, 1: 212})"
            ]
          },
          "execution_count": 100,
          "metadata": {},
          "output_type": "execute_result"
        }
      ],
      "source": [
        "Counter(y)"
      ]
    },
    {
      "cell_type": "code",
      "execution_count": 101,
      "metadata": {
        "id": "qlBh2wPDvbsj"
      },
      "outputs": [],
      "source": [
        "smote=SMOTE(sampling_strategy='minority',random_state=42)\n",
        "x, y=smote.fit_resample(x,y)"
      ]
    },
    {
      "cell_type": "code",
      "execution_count": 102,
      "metadata": {
        "colab": {
          "base_uri": "https://localhost:8080/"
        },
        "id": "RkFpf_Tevbsk",
        "outputId": "8ab08592-f84a-4149-fd01-901511ca2843"
      },
      "outputs": [
        {
          "data": {
            "text/plain": [
              "Counter({1: 357, 0: 357})"
            ]
          },
          "execution_count": 102,
          "metadata": {},
          "output_type": "execute_result"
        }
      ],
      "source": [
        "Counter(y)"
      ]
    },
    {
      "cell_type": "markdown",
      "metadata": {
        "id": "9WC8VbD30qGk"
      },
      "source": [
        "# split_data"
      ]
    },
    {
      "cell_type": "code",
      "execution_count": 103,
      "metadata": {
        "id": "n1fLooVh0rPi"
      },
      "outputs": [],
      "source": [
        "x_train, x_test, y_train, y_test=train_test_split(x,y,test_size=.2 , random_state=42)"
      ]
    },
    {
      "cell_type": "code",
      "execution_count": 104,
      "metadata": {
        "id": "md2XT2oUvbsp"
      },
      "outputs": [],
      "source": [
        "scaler=MinMaxScaler()\n",
        "x_train=scaler.fit_transform(x_train)\n",
        "x_test=scaler.transform(x_test)"
      ]
    },
    {
      "cell_type": "markdown",
      "metadata": {
        "id": "5UR3tMUxvbsp"
      },
      "source": [
        "# Model"
      ]
    },
    {
      "cell_type": "code",
      "execution_count": 105,
      "metadata": {
        "id": "ze-dQFM1vbsp"
      },
      "outputs": [],
      "source": [
        "def svc_grid_search(x_train, y_train):\n",
        "  params={\n",
        "      'C':[ .1,1, 10],\n",
        "      'kernel':['linear','rbf','poly'],\n",
        "      'gamma':['auto','scale']  }\n",
        "\n",
        "  model=SVC(random_state=42)\n",
        "  grid=GridSearchCV(model,params,scoring='accuracy',cv=5) #cross validation >> folds\n",
        "  grid.fit(x_train, y_train)\n",
        "  print(grid.best_params_)"
      ]
    },
    {
      "cell_type": "code",
      "execution_count": 106,
      "metadata": {
        "id": "V8hKObzXxDdZ"
      },
      "outputs": [],
      "source": [
        "def svc_build_model(x_train, y_train, x_test, y_test,c,k,g):\n",
        "  model=SVC(C=c  , kernel=k , gamma=g)\n",
        "  model.fit(x_train, y_train)\n",
        "  y_pred=model.predict(x_test)\n",
        "  print('Accuracy',accuracy_score(y_test, y_pred))"
      ]
    },
    {
      "cell_type": "markdown",
      "metadata": {
        "id": "xFfbBke5vbsq"
      },
      "source": [
        "# Feature Selection"
      ]
    },
    {
      "cell_type": "markdown",
      "metadata": {
        "id": "0uaijhnpvbsq"
      },
      "source": [
        "# 1. what is a Feature Selection?\n",
        "**Feature selection is the process of selecting a subset of relevant and important features (or variables) from the original set of features in a dataset**"
      ]
    },
    {
      "cell_type": "markdown",
      "metadata": {
        "id": "Sl4N5Megvbsr"
      },
      "source": [
        "# 2. Why is Feature Selection Important in Machine Learning?\n",
        "1. **Avoiding curse of dimensionality** as instead of working with a lot of features that may become overhead to model and take high computational and speed up training process\n",
        "2. **improve model performance** as you remove irrelevant and redundant features which can improve generalization and reduce overfitting as you make the model less likely to deal with noise pattern"
      ]
    },
    {
      "cell_type": "markdown",
      "metadata": {
        "id": "3SkxuDu4vbsr"
      },
      "source": [
        "# Feature Selection Methods\n",
        "#### 1. **Filter Methods**\n",
        "###### 1. Correlation coefficient \"Pearson’s Correlation\"\n",
        "###### 2. Mutual Information\n",
        "######  3. Chi-Square\n",
        "#### 2. **Wrapper methods**\n",
        " ######    1. Recursive Features Elimination (RFE)\n",
        " ######  2. Forward Selection\n",
        "######   3. Backward Elimination\n",
        "#### 3. **Embedded methods**\n",
        "######   1. Tree-based method"
      ]
    },
    {
      "cell_type": "markdown",
      "metadata": {
        "id": "SHQVXXI7vbss"
      },
      "source": [
        "# Filter Methods"
      ]
    },
    {
      "cell_type": "markdown",
      "metadata": {
        "id": "3Iz22jt1vbss"
      },
      "source": [
        "### Correlation coefficient \"Pearson correlation\""
      ]
    },
    {
      "cell_type": "markdown",
      "metadata": {
        "id": "q1g6iAgvvbss"
      },
      "source": [
        "1. calculate correlation between each feature and the target variable. Select features with the highest correlation coefficient.\n",
        "2. When 2 features are highly correlated with one another, then keeping just one in the model will be enough because otherwise they provide duplicate information (multicollinearity). The second variable will only be redundant and serve to contribute unnecessary noise.\n",
        "to know which variable to remove from the 2 features u will look at their correlation between them and target variable and select the lower correlation and remove it.\n",
        "3. correaltion is easy to interpret.\n",
        "3. **`Disadvantage`** is it correlation so it just capture lienar dependencies, as there may be a polynomial relation but this correlation tell it has weak or zero correlation.\n"
      ]
    },
    {
      "cell_type": "code",
      "execution_count": 159,
      "metadata": {
        "id": "X5E7ZhY1vbst"
      },
      "outputs": [],
      "source": [
        "from sklearn.feature_selection import SelectKBest , f_regression\n",
        "fs=SelectKBest(f_regression ,k=8)\n",
        "fs.fit(x_train,y_train)\n",
        "x_train_selecetd_corr =fs.transform(x_train)\n",
        "x_test_selecetd_corr =fs.transform(x_test)"
      ]
    },
    {
      "cell_type": "code",
      "execution_count": 160,
      "metadata": {
        "colab": {
          "base_uri": "https://localhost:8080/"
        },
        "id": "-JzvVz_evbst",
        "outputId": "065aef7c-851f-4a8c-c2ee-2869687d8e03"
      },
      "outputs": [
        {
          "name": "stdout",
          "output_type": "stream",
          "text": [
            "{'C': 10, 'gamma': 'scale', 'kernel': 'poly'}\n"
          ]
        }
      ],
      "source": [
        "svc_grid_search(x_train_selecetd_corr, y_train)"
      ]
    },
    {
      "cell_type": "code",
      "execution_count": 161,
      "metadata": {
        "colab": {
          "base_uri": "https://localhost:8080/"
        },
        "id": "fVcFJ6oDvbsu",
        "outputId": "220f5f55-8394-406c-f931-9031e5bfb98e"
      },
      "outputs": [
        {
          "name": "stdout",
          "output_type": "stream",
          "text": [
            "Accuracy 0.951048951048951\n"
          ]
        }
      ],
      "source": [
        "svc_build_model(x_train_selecetd_corr, y_train, x_test_selecetd_corr, y_test,10,'poly','scale')"
      ]
    },
    {
      "cell_type": "markdown",
      "metadata": {},
      "source": [
        "### Mutual Information"
      ]
    },
    {
      "cell_type": "markdown",
      "metadata": {},
      "source": [
        "1. Mutual information measures mutual dependences between 2 variables and can be used to measure how much a feature contributes to the prediction of the target variable, as it quantifies the amount of information obtained about one variable through the other variable.\n",
        "2. its non-negative number and its symmetric. It’s like Pearson’s correlation, but it’s **`not limited to detect linear association`**.\n",
        "3. Another advantage of mutual information is that it also works on discrete features or target, unlike correlation. Although, categorical variables need to be numerically encoded first."
      ]
    },
    {
      "cell_type": "code",
      "execution_count": 162,
      "metadata": {
        "id": "NO3UHfu74cUQ"
      },
      "outputs": [],
      "source": [
        "from sklearn.feature_selection import SelectKBest , mutual_info_classif\n",
        "fs=SelectKBest(mutual_info_classif ,k=8)\n",
        "fs.fit(x_train,y_train)\n",
        "x_train_selecetd_mi =fs.transform(x_train)\n",
        "x_test_selecetd_mi =fs.transform(x_test)"
      ]
    },
    {
      "cell_type": "code",
      "execution_count": 163,
      "metadata": {},
      "outputs": [
        {
          "name": "stdout",
          "output_type": "stream",
          "text": [
            "{'C': 10, 'gamma': 'scale', 'kernel': 'poly'}\n"
          ]
        }
      ],
      "source": [
        "svc_grid_search(x_train_selecetd_mi, y_train)"
      ]
    },
    {
      "cell_type": "code",
      "execution_count": 165,
      "metadata": {},
      "outputs": [
        {
          "name": "stdout",
          "output_type": "stream",
          "text": [
            "Accuracy 0.951048951048951\n"
          ]
        }
      ],
      "source": [
        "svc_build_model(x_train_selecetd_mi, y_train, x_test_selecetd_mi, y_test,10,'poly','scale')"
      ]
    },
    {
      "cell_type": "markdown",
      "metadata": {},
      "source": [
        "### Chi square"
      ]
    },
    {
      "cell_type": "markdown",
      "metadata": {},
      "source": [
        "1. Used for classification tasks to check the independence of 2 variables **`\"categorical only\"`**. "
      ]
    },
    {
      "cell_type": "code",
      "execution_count": 166,
      "metadata": {},
      "outputs": [],
      "source": [
        "from sklearn.feature_selection import SelectKBest , chi2\n",
        "fs=SelectKBest(chi2 ,k=8)\n",
        "fs.fit(x_train,y_train)\n",
        "x_train_selecetd_chi =fs.transform(x_train)\n",
        "x_test_selecetd_chi =fs.transform(x_test)"
      ]
    },
    {
      "cell_type": "code",
      "execution_count": 167,
      "metadata": {},
      "outputs": [
        {
          "name": "stdout",
          "output_type": "stream",
          "text": [
            "{'C': 10, 'gamma': 'scale', 'kernel': 'poly'}\n"
          ]
        }
      ],
      "source": [
        "svc_grid_search(x_train_selecetd_chi, y_train)"
      ]
    },
    {
      "cell_type": "code",
      "execution_count": 168,
      "metadata": {},
      "outputs": [
        {
          "name": "stdout",
          "output_type": "stream",
          "text": [
            "Accuracy 0.986013986013986\n"
          ]
        }
      ],
      "source": [
        "svc_build_model(x_train_selecetd_chi, y_train, x_test_selecetd_chi, y_test,10,'poly','scale')"
      ]
    },
    {
      "cell_type": "markdown",
      "metadata": {},
      "source": [
        "### ANOVA"
      ]
    },
    {
      "cell_type": "markdown",
      "metadata": {},
      "source": [
        "1. can work for both categorical and non-categorical data \n",
        "2. **`Only captures linear relationships.`**"
      ]
    },
    {
      "cell_type": "code",
      "execution_count": 169,
      "metadata": {},
      "outputs": [],
      "source": [
        "from sklearn.feature_selection import SelectKBest, f_classif\n",
        "fs=SelectKBest(f_classif ,k=8)\n",
        "fs.fit(x_train,y_train)\n",
        "x_train_selecetd_anova =fs.transform(x_train)\n",
        "x_test_selecetd_anova =fs.transform(x_test)"
      ]
    },
    {
      "cell_type": "code",
      "execution_count": 170,
      "metadata": {},
      "outputs": [
        {
          "name": "stdout",
          "output_type": "stream",
          "text": [
            "{'C': 10, 'gamma': 'scale', 'kernel': 'poly'}\n"
          ]
        }
      ],
      "source": [
        "svc_grid_search(x_train_selecetd_anova, y_train)"
      ]
    },
    {
      "cell_type": "code",
      "execution_count": 171,
      "metadata": {},
      "outputs": [
        {
          "name": "stdout",
          "output_type": "stream",
          "text": [
            "Accuracy 0.951048951048951\n"
          ]
        }
      ],
      "source": [
        "svc_build_model(x_train_selecetd_anova, y_train, x_test_selecetd_anova, y_test,10,'poly','scale')"
      ]
    },
    {
      "cell_type": "markdown",
      "metadata": {},
      "source": [
        "# Wrapper Methods\n"
      ]
    },
    {
      "cell_type": "markdown",
      "metadata": {},
      "source": [
        "### Forward Selection"
      ]
    },
    {
      "cell_type": "markdown",
      "metadata": {},
      "source": [
        "1. start with no features and add them one by one based on performance improvement until a stopping criterion is met.\n",
        "2. Greedy algorithm may not find the global optimum as it doesn't take into account **`Feature interaction`**."
      ]
    },
    {
      "cell_type": "code",
      "execution_count": 174,
      "metadata": {},
      "outputs": [],
      "source": [
        "model_SVC = SVC()\n",
        "from sklearn.feature_selection import SequentialFeatureSelector\n",
        "forw=SequentialFeatureSelector(estimator=model_SVC , n_features_to_select=10 , direction='forward')\n",
        "forw.fit(x_train, y_train)\n",
        "\n",
        "x_train_selected_for=forw.transform(x_train)\n",
        "x_test_selected_for=forw.transform(x_test)"
      ]
    },
    {
      "cell_type": "code",
      "execution_count": 176,
      "metadata": {},
      "outputs": [
        {
          "name": "stdout",
          "output_type": "stream",
          "text": [
            "Accuracy 0.986013986013986\n"
          ]
        }
      ],
      "source": [
        "model_SVC.fit(x_train_selected_for,y_train)     # default HYperParamerets\n",
        "pred = model_SVC.predict(x_test_selected_for)\n",
        "print('Accuracy',accuracy_score(pred,y_test) )"
      ]
    },
    {
      "cell_type": "markdown",
      "metadata": {},
      "source": [
        "### Backward Elimination"
      ]
    },
    {
      "cell_type": "markdown",
      "metadata": {},
      "source": [
        "1. start with all features and eliminate them one by one based on performance deterioration.\n",
        "2. Greedy algorithm may not find the global optimum as it doesn't take into account **`Feature interaction`**."
      ]
    },
    {
      "cell_type": "code",
      "execution_count": 178,
      "metadata": {},
      "outputs": [],
      "source": [
        "model_SVC = SVC()\n",
        "from sklearn.feature_selection import SequentialFeatureSelector\n",
        "forw=SequentialFeatureSelector(estimator=model_SVC , n_features_to_select=10 , direction='backward')\n",
        "forw.fit(x_train, y_train)\n",
        "\n",
        "x_train_selected_back=forw.transform(x_train)\n",
        "x_test_selected_back=forw.transform(x_test)"
      ]
    },
    {
      "cell_type": "code",
      "execution_count": 179,
      "metadata": {},
      "outputs": [
        {
          "name": "stdout",
          "output_type": "stream",
          "text": [
            "Accuracy 0.993006993006993\n"
          ]
        }
      ],
      "source": [
        "model_SVC.fit(x_train_selected_back,y_train)  # default HYperParamerets\n",
        "pred = model_SVC.predict(x_test_selected_back)\n",
        "print('Accuracy',accuracy_score(pred,y_test) )"
      ]
    },
    {
      "cell_type": "markdown",
      "metadata": {},
      "source": [
        "### RFE"
      ]
    },
    {
      "cell_type": "markdown",
      "metadata": {},
      "source": [
        "1. build model and recursively remove the least important features based on coefficient or feature importance.\n",
        "2. Begins by training the model with all features. The model can be any supervise model that provides a way to rank features by importance\n",
        "3. it takes into account `feature interaction` which gurantee to find the best features \n",
        "4. **Disadvantages** Sensitive to the choice of the model used for rankin, and very high computational if data was large as it fit a model with every combination of features. "
      ]
    },
    {
      "cell_type": "code",
      "execution_count": 180,
      "metadata": {},
      "outputs": [],
      "source": [
        "model_SVC = SVC(kernel='linear')\n",
        "from sklearn.feature_selection  import RFE\n",
        "REC=RFE(model_SVC , n_features_to_select=10 )\n",
        "REC.fit(x_train, y_train)\n",
        "\n",
        "x_train_selected_rfe = forw.transform(x_train)\n",
        "x_test_selected_rfe  = forw.transform(x_test)"
      ]
    },
    {
      "cell_type": "code",
      "execution_count": 181,
      "metadata": {},
      "outputs": [
        {
          "data": {
            "text/plain": [
              "0.986013986013986"
            ]
          },
          "execution_count": 181,
          "metadata": {},
          "output_type": "execute_result"
        }
      ],
      "source": [
        "model_SVC.fit(x_train_selected_rfe,y_train)\n",
        "pred = model_SVC.predict(x_test_selected_rfe)\n",
        "accuracy_score(pred,y_test)"
      ]
    },
    {
      "cell_type": "markdown",
      "metadata": {},
      "source": [
        "## Note\n",
        "Filter methods evaluate each feature individually and select the most meaningful features based on statistical measures such as correlation and mutual information. Its quick and easy to implement but may not consider the interactions between features and may not be affective with high dimensions dataset.  "
      ]
    },
    {
      "cell_type": "markdown",
      "metadata": {},
      "source": [
        "# Embeded Methods"
      ]
    },
    {
      "cell_type": "markdown",
      "metadata": {},
      "source": [
        "### Tree base Method "
      ]
    },
    {
      "cell_type": "markdown",
      "metadata": {},
      "source": [
        "1. Handles nonlinear relationships and interactions and provides feature importance scores naturally."
      ]
    },
    {
      "cell_type": "code",
      "execution_count": 182,
      "metadata": {},
      "outputs": [
        {
          "name": "stdout",
          "output_type": "stream",
          "text": [
            "[0.02870012 0.02033554 0.03870045 0.06372455 0.00585075 0.01124981\n",
            " 0.04059012 0.13585323 0.00357806 0.00279266 0.01339489 0.00534591\n",
            " 0.00876524 0.03674547 0.0046644  0.00380625 0.00424405 0.0072166\n",
            " 0.00760691 0.00478683 0.09020183 0.01760011 0.15438463 0.13143905\n",
            " 0.01377912 0.01565482 0.03387083 0.07766387 0.01046892 0.00698499]\n"
          ]
        }
      ],
      "source": [
        "rf= RandomForestClassifier()\n",
        "rf.fit(x_train,y_train)\n",
        "print(rf.feature_importances_)"
      ]
    },
    {
      "cell_type": "code",
      "execution_count": 183,
      "metadata": {},
      "outputs": [
        {
          "data": {
            "text/plain": [
              "Index(['concave points_mean', 'perimeter_worst', 'area_worst'], dtype='object')"
            ]
          },
          "execution_count": 183,
          "metadata": {},
          "output_type": "execute_result"
        }
      ],
      "source": [
        "mask = rf.feature_importances_ >.1\n",
        "X_selected = x.loc[:,mask]\n",
        "X_selected.columns"
      ]
    },
    {
      "cell_type": "code",
      "execution_count": null,
      "metadata": {},
      "outputs": [],
      "source": []
    }
  ],
  "metadata": {
    "colab": {
      "provenance": []
    },
    "kernelspec": {
      "display_name": "newenv",
      "language": "python",
      "name": "python3"
    },
    "language_info": {
      "codemirror_mode": {
        "name": "ipython",
        "version": 3
      },
      "file_extension": ".py",
      "mimetype": "text/x-python",
      "name": "python",
      "nbconvert_exporter": "python",
      "pygments_lexer": "ipython3",
      "version": "3.12.4"
    }
  },
  "nbformat": 4,
  "nbformat_minor": 0
}
